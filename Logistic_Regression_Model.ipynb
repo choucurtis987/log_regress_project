{
 "cells": [
  {
   "cell_type": "markdown",
   "metadata": {},
   "source": [
    "# Creating the Logistic Regression Model"
   ]
  },
  {
   "cell_type": "code",
   "execution_count": 262,
   "metadata": {},
   "outputs": [],
   "source": [
    "import numpy as np\n",
    "import pandas as pd"
   ]
  },
  {
   "cell_type": "markdown",
   "metadata": {},
   "source": [
    "### Creating Our Essential Functions"
   ]
  },
  {
   "cell_type": "code",
   "execution_count": 263,
   "metadata": {},
   "outputs": [],
   "source": [
    "# returns the probability a student will \"pass the class(1)\"\n",
    "def predict(features, weights, bias):\n",
    "    \n",
    "    x = np.dot(features, weights) \n",
    "    z = x + bias\n",
    "    # sigmoid activation function to represent our probabilities:\n",
    "    return 1 / (1 + np.exp(-z))\n",
    "\n",
    "def classify(predictions):\n",
    "    \n",
    "    df = pd.DataFrame(predictions)\n",
    "    df[0] = df[0].apply(lambda x: 1 if x >= 0.5 else 0)\n",
    "\n",
    "    predictions = df.to_numpy()\n",
    "    \n",
    "    return predictions\n",
    "    \n",
    "def update_weights(features, targets, weights, bias, learning_rate):\n",
    "    \n",
    "    N = len(features)\n",
    "        \n",
    "    # make predictions\n",
    "    predictions = predict(features, weights, bias)\n",
    "        \n",
    "    # formula for updating weights from the derivative of the cost function with respect to weights:\n",
    "    # new_weights = original_weights + learning_rate(ytrue - ypred)(input)\n",
    "    \n",
    "    # the derivative of the cost function with respect to weights:\n",
    "    # we also need to transpose the feature matrix so we can use it in multiplication with the other matrix:\n",
    "    gradient = np.dot(features.T, targets - predictions)\n",
    "    \n",
    "    # take the average cost derivative for each feature\n",
    "    gradient /= N\n",
    "\n",
    "    # multiply the gradient by our learning rate\n",
    "    gradient *= learning_rate\n",
    "   \n",
    "    # add to our weights to minimize cost\n",
    "    weights += gradient\n",
    "\n",
    "    return weights\n",
    "    \n",
    "def update_bias(features, targets, weights, bias, learning_rate):\n",
    "    \n",
    "    N = len(features)\n",
    "        \n",
    "    # we use the same update function as update_weights except we assume input is always 1\n",
    "    # new_bias = original_bias + learning_rate(ytrue - ypred)(input)\n",
    "    predictions = predict(features, weights, bias)\n",
    "    \n",
    "    # the derivative of the cost function with respect to weights and input of 1:\n",
    "    gradient = np.dot(learning_rate,  targets - predictions)\n",
    "\n",
    "    # average cost derivative for each feature:\n",
    "    gradient /= N\n",
    "\n",
    "    # add to our bias to minimize cost\n",
    "    bias += gradient\n",
    "  \n",
    "    return bias\n",
    "\n",
    "# cross entropy cost function:\n",
    "def cost_function(features, targets, weights, bias):\n",
    "    \n",
    "    N = len(features)\n",
    "    \n",
    "    predictions = predict(features, weights, bias)\n",
    "    \n",
    "    # Error when target=1\n",
    "    cost1 = -targets*np.log(predictions)\n",
    "\n",
    "    # Error when target=0\n",
    "    cost2 = (1-targets)*np.log(1-predictions)\n",
    "\n",
    "    # Sum of both costs\n",
    "    cost = cost1 - cost2\n",
    "\n",
    "    # Average cost\n",
    "    cost = cost.sum() / N\n",
    "\n",
    "    return cost\n",
    "\n",
    "# Keeping track of our loss:\n",
    "cost_history = []\n",
    "\n",
    "def train(features, targets, weights, bias, learning_rate, iters):\n",
    "    \n",
    "    # using gradient descent because of small dataset:\n",
    "    for i in range(iters):\n",
    "        \n",
    "        weights = update_weights(features, targets, weights, bias, learning_rate)\n",
    "        bias = update_bias(features, targets, weights, bias, learning_rate)\n",
    "\n",
    "        #Calculate error for auditing purposes:\n",
    "        cost = cost_function(features, targets, weights, bias)\n",
    "\n",
    "        # Keeping track of our loss:\n",
    "        if i % 100 == 0:\n",
    "            cost_history.append([i,cost])\n",
    "\n",
    "    return weights, bias\n",
    "\n",
    "# Find accuracy of our model:\n",
    "def accuracy(predicted_labels, actual_labels):\n",
    "    \n",
    "    diff = predicted_labels - actual_labels\n",
    "    return 1.0 - (float(np.count_nonzero(diff)) / len(diff))"
   ]
  },
  {
   "cell_type": "markdown",
   "metadata": {},
   "source": [
    "### Using Our Model\n",
    "- Here we define our targets and features after cleaning the data and shape the matrices to our desired shape\n",
    "- We also do the same for our weights and bias"
   ]
  },
  {
   "cell_type": "code",
   "execution_count": 264,
   "metadata": {},
   "outputs": [],
   "source": [
    "# import the final dataframe from Data_Cleaning script\n",
    "from ipynb.fs.full.Data_Cleaning import df\n",
    "\n",
    "# creating targets and features\n",
    "targets = df['G3'].to_numpy().reshape(395,1)\n",
    "df = df.drop('G3', axis=1)\n",
    "features = df.to_numpy() # shape: (395, 23)"
   ]
  },
  {
   "cell_type": "code",
   "execution_count": 265,
   "metadata": {},
   "outputs": [],
   "source": [
    "# defining our variables:\n",
    "weights = np.zeros( shape=(23,1) )\n",
    "bias = np.ones( shape=(197,1) )\n",
    "learning_rate = 0.01\n",
    "iters = 5000\n",
    "\n",
    "# features[:197], targets[:197] will be our training set\n",
    "\n",
    "# obtain optimal weights and bias:\n",
    "weights, bias = train(features[:197], targets[:197], weights, bias, learning_rate, iters)\n",
    "\n",
    "# make predictions:\n",
    "predictions = predict(features[198:], weights, bias)\n",
    "\n",
    "# Uncomment to see probability predictions:\n",
    "# print(predictions)"
   ]
  },
  {
   "cell_type": "code",
   "execution_count": 266,
   "metadata": {},
   "outputs": [
    {
     "data": {
      "text/plain": [
       "0.6091370558375635"
      ]
     },
     "execution_count": 266,
     "metadata": {},
     "output_type": "execute_result"
    }
   ],
   "source": [
    "# finding the model accuracy:\n",
    "\n",
    "predicted = classify(predictions)\n",
    "accuracy(predicted, targets[198:])"
   ]
  },
  {
   "cell_type": "markdown",
   "metadata": {},
   "source": [
    "### Visualizing Our Cross Entropy Loss Function\n",
    "- We can achieve nearly zero loss if we run enough iters but the problem is that it will be too overfit to the training dataset causing a lower accuracy in predicting newer data"
   ]
  },
  {
   "cell_type": "code",
   "execution_count": 267,
   "metadata": {},
   "outputs": [
    {
     "data": {
      "image/png": "[encoded data removed]",
      "text/plain": [
       "<Figure size 432x288 with 1 Axes>"
      ]
     },
     "metadata": {
      "needs_background": "light"
     },
     "output_type": "display_data"
    }
   ],
   "source": [
    "import matplotlib.pyplot as plt\n",
    "\n",
    "for i in range(len(cost_history)):\n",
    "    \n",
    "    plt.ylim((0,1))\n",
    "    plt.xlim((0,iters))\n",
    "    plt.scatter(cost_history[i][0], cost_history[i][1])"
   ]
  }
 ],
 "metadata": {
  "kernelspec": {
   "display_name": "Python 3",
   "language": "python",
   "name": "python3"
  },
  "language_info": {
   "codemirror_mode": {
    "name": "ipython",
    "version": 3
   },
   "file_extension": ".py",
   "mimetype": "text/x-python",
   "name": "python",
   "nbconvert_exporter": "python",
   "pygments_lexer": "ipython3",
   "version": "3.7.3"
  }
 },
 "nbformat": 4,
 "nbformat_minor": 2
}
